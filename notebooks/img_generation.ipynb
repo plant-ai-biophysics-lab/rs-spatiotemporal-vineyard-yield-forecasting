{
 "cells": [
  {
   "cell_type": "code",
   "execution_count": 1,
   "metadata": {},
   "outputs": [],
   "source": [
    "%load_ext autoreload\n",
    "%autoreload 2\n",
    "import warnings\n",
    "warnings.filterwarnings('ignore')"
   ]
  },
  {
   "cell_type": "code",
   "execution_count": 2,
   "metadata": {},
   "outputs": [],
   "source": [
    "import sys\n",
    "sys.path.append('../')\n",
    "from src import PreProcessing as pp"
   ]
  },
  {
   "cell_type": "code",
   "execution_count": 16,
   "metadata": {},
   "outputs": [],
   "source": [
    "img_dir_root = '/data2/hkaman/Data/Livingston/LIV_tif/'\n",
    "img_save_dir = '/data2/hkaman/Data/Livingston/data/10m/imgs/'\n",
    "label_save_dir = '/data2/hkaman/Data/Livingston/data/10m/labels/'"
   ]
  },
  {
   "cell_type": "code",
   "execution_count": 23,
   "metadata": {},
   "outputs": [],
   "source": [
    "pp.block_npy_gen(data_dir = img_dir_root,\n",
    "              img_save_dir = img_save_dir, \n",
    "              label_save_dir = label_save_dir, \n",
    "              year = '2016', \n",
    "              spatial_res = 10)"
   ]
  }
 ],
 "metadata": {
  "kernelspec": {
   "display_name": "vit",
   "language": "python",
   "name": "python3"
  },
  "language_info": {
   "codemirror_mode": {
    "name": "ipython",
    "version": 3
   },
   "file_extension": ".py",
   "mimetype": "text/x-python",
   "name": "python",
   "nbconvert_exporter": "python",
   "pygments_lexer": "ipython3",
   "version": "3.11.7"
  }
 },
 "nbformat": 4,
 "nbformat_minor": 2
}
