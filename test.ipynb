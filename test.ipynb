{
 "cells": [
  {
   "cell_type": "code",
   "execution_count": 1,
   "metadata": {},
   "outputs": [],
   "source": [
    "%load_ext autoreload\n",
    "%autoreload 2\n",
    "\n",
    "import warnings\n",
    "warnings.filterwarnings('ignore')"
   ]
  },
  {
   "cell_type": "code",
   "execution_count": 2,
   "metadata": {},
   "outputs": [],
   "source": [
    "import os\n",
    "import os.path as path\n",
    "import numpy as np\n",
    "import torch\n",
    "from matplotlib.patches import Rectangle\n",
    "from glob import glob\n",
    "import matplotlib.pyplot as plt\n",
    "from matplotlib.patches import Patch\n",
    "import cv2\n",
    "import random\n",
    "import seaborn as sns\n",
    "sns.set(font_scale=1.5)\n",
    "from pprint import pprint\n",
    "from IPython.display import HTML # to show the animation in Jupyter\n",
    "import pandas as pd"
   ]
  },
  {
   "cell_type": "code",
   "execution_count": 3,
   "metadata": {},
   "outputs": [],
   "source": [
    "import sys\n",
    "sys.path.append('../')\n",
    "from src import utils, Inference, configs"
   ]
  },
  {
   "cell_type": "code",
   "execution_count": 34,
   "metadata": {},
   "outputs": [
    {
     "name": "stdout",
     "output_type": "stream",
     "text": [
      "Training Patches: 7456, Validation: 2466 and Test: 3100\n",
      "============================= Train =========================================\n",
      "There are 8 cultivar types.\n",
      "Cultivar CABERNET_SAUVIGNON has 3 blocks and 1020 samples:\n",
      "     Block LIV_017_2016 has 22 samples.\n",
      "     Block LIV_103_2016 has 480 samples.\n",
      "     Block LIV_103_2019 has 518 samples.\n",
      "Cultivar CHARDONNAY has 5 blocks and 1430 samples:\n",
      "     Block LIV_018_2016 has 659 samples.\n",
      "     Block LIV_018_2019 has 679 samples.\n",
      "     Block LIV_111_2016 has 41 samples.\n",
      "     Block LIV_111_2019 has 41 samples.\n",
      "     Block LIV_176_2019 has 10 samples.\n",
      "Cultivar MALVASIA_BIANCA has 2 blocks and 803 samples:\n",
      "     Block LIV_003_2016 has 410 samples.\n",
      "     Block LIV_003_2019 has 393 samples.\n",
      "Cultivar MERLOT has 2 blocks and 350 samples:\n",
      "     Block LIV_038_2016 has 326 samples.\n",
      "     Block LIV_068_2016 has 24 samples.\n",
      "Cultivar MUSCAT_OF_ALEXANDRIA has 4 blocks and 570 samples:\n",
      "     Block LIV_016_2016 has 59 samples.\n",
      "     Block LIV_016_2019 has 62 samples.\n",
      "     Block LIV_102_2016 has 223 samples.\n",
      "     Block LIV_102_2019 has 226 samples.\n",
      "Cultivar RIESLING has 6 blocks and 1635 samples:\n",
      "     Block LIV_014_2016 has 165 samples.\n",
      "     Block LIV_014_2019 has 173 samples.\n",
      "     Block LIV_076_2016 has 494 samples.\n",
      "     Block LIV_076_2019 has 489 samples.\n",
      "     Block LIV_107_2016 has 14 samples.\n",
      "     Block LIV_107_2019 has 300 samples.\n",
      "Cultivar SYMPHONY has 2 blocks and 687 samples:\n",
      "     Block LIV_007_2016 has 352 samples.\n",
      "     Block LIV_007_2019 has 335 samples.\n",
      "Cultivar SYRAH has 2 blocks and 961 samples:\n",
      "     Block LIV_012_2016 has 481 samples.\n",
      "     Block LIV_012_2019 has 480 samples.\n",
      "============================= Validation ====================================\n",
      "============================= Test ==========================================\n",
      "=============================================================================\n"
     ]
    }
   ],
   "source": [
    "train_csv, val_csv, test_csv = utils.data_generator(eval_scenario = 'block_year_hold_out', \n",
    "                                                            spatial_resolution = 10, \n",
    "                                                            patch_size = 16, patch_offset = 2,  \n",
    "                                                            cultivar_list = None, \n",
    "                                                            year_list = ['2016', '2019', '2018', '2017']).return_split_dataframe()"
   ]
  }
 ],
 "metadata": {
  "kernelspec": {
   "display_name": "lettuce",
   "language": "python",
   "name": "python3"
  },
  "language_info": {
   "codemirror_mode": {
    "name": "ipython",
    "version": 3
   },
   "file_extension": ".py",
   "mimetype": "text/x-python",
   "name": "python",
   "nbconvert_exporter": "python",
   "pygments_lexer": "ipython3",
   "version": "3.9.0 | packaged by conda-forge | (default, Nov 26 2020, 07:57:39) \n[GCC 9.3.0]"
  },
  "orig_nbformat": 4,
  "vscode": {
   "interpreter": {
    "hash": "1ffccc2db1508bf0f1c12d6e67b17722cce250e5750ff7863e7a8be01e188aed"
   }
  }
 },
 "nbformat": 4,
 "nbformat_minor": 2
}
